{
 "cells": [
  {
   "cell_type": "code",
   "execution_count": 1,
   "metadata": {},
   "outputs": [],
   "source": [
    "import numpy as np\n",
    "import pandas as pd\n",
    "import os\n",
    "import matplotlib.pyplot as plt\n",
    "import nltk\n",
    "from nltk.corpus import stopwords\n",
    "import io\n",
    "import re\n",
    "from tqdm import tqdm\n",
    "import numpy as np\n",
    "import tensorflow as tf\n",
    "from tensorflow import keras\n",
    "from tensorflow.keras import layers\n",
    "import import_ipynb\n",
    "# from custom_matching_layers import *\n",
    "from sklearn.model_selection import train_test_split\n",
    "import json\n",
    "\n",
    "import tensorflow_hub as hub\n",
    "import tensorflow_datasets as tfds\n",
    "tfds.disable_progress_bar()\n",
    "\n",
    "from official.modeling import tf_utils\n",
    "from official import nlp\n",
    "from official.nlp import bert\n",
    "\n",
    "# Load the required submodules\n",
    "import official.nlp.optimization\n",
    "import official.nlp.bert.bert_models\n",
    "import official.nlp.bert.configs\n",
    "import official.nlp.bert.run_classifier\n",
    "import official.nlp.bert.tokenization\n",
    "import official.nlp.data.classifier_data_lib\n",
    "import official.nlp.modeling.losses\n",
    "import official.nlp.modeling.models\n",
    "import official.nlp.modeling.networks"
   ]
  },
  {
   "cell_type": "code",
   "execution_count": 2,
   "metadata": {},
   "outputs": [
    {
     "data": {
      "text/plain": [
       "[PhysicalDevice(name='/physical_device:CPU:0', device_type='CPU'),\n",
       " PhysicalDevice(name='/physical_device:XLA_CPU:0', device_type='XLA_CPU'),\n",
       " PhysicalDevice(name='/physical_device:XLA_GPU:0', device_type='XLA_GPU'),\n",
       " PhysicalDevice(name='/physical_device:GPU:0', device_type='GPU')]"
      ]
     },
     "execution_count": 2,
     "metadata": {},
     "output_type": "execute_result"
    }
   ],
   "source": [
    "tf.config.experimental.list_physical_devices()"
   ]
  },
  {
   "cell_type": "code",
   "execution_count": 3,
   "metadata": {},
   "outputs": [],
   "source": [
    "gpus = tf.config.experimental.list_physical_devices(device_type='GPU')\n",
    "tf.config.experimental.set_visible_devices(devices=gpus[0], device_type='GPU')\n",
    "tf.config.experimental.set_memory_growth(device=gpus[0], enable=True)"
   ]
  },
  {
   "cell_type": "markdown",
   "metadata": {},
   "source": [
    "## Preprocessing"
   ]
  },
  {
   "cell_type": "code",
   "execution_count": 6,
   "metadata": {},
   "outputs": [
    {
     "name": "stdout",
     "output_type": "stream",
     "text": [
      "['MSRP', 'SICK', 'QQP']\n",
      "['msrp_test.txt', 'msrp_train.txt', 'msrptrain.csv', 'msrp.csv', 'msrptest.csv', 'MSRParaphraseCorpus.msi']\n"
     ]
    }
   ],
   "source": [
    "print(os.listdir(\"./datasets\"))\n",
    "print(os.listdir(\"./datasets/MSRP\"))"
   ]
  },
  {
   "cell_type": "code",
   "execution_count": 4,
   "metadata": {},
   "outputs": [],
   "source": [
    "df_msrp = pd.read_csv('./datasets/MSRP/msrp.csv')"
   ]
  },
  {
   "cell_type": "code",
   "execution_count": 5,
   "metadata": {},
   "outputs": [
    {
     "data": {
      "text/html": [
       "<div>\n",
       "<style scoped>\n",
       "    .dataframe tbody tr th:only-of-type {\n",
       "        vertical-align: middle;\n",
       "    }\n",
       "\n",
       "    .dataframe tbody tr th {\n",
       "        vertical-align: top;\n",
       "    }\n",
       "\n",
       "    .dataframe thead th {\n",
       "        text-align: right;\n",
       "    }\n",
       "</style>\n",
       "<table border=\"1\" class=\"dataframe\">\n",
       "  <thead>\n",
       "    <tr style=\"text-align: right;\">\n",
       "      <th></th>\n",
       "      <th>id</th>\n",
       "      <th>qid1</th>\n",
       "      <th>qid2</th>\n",
       "      <th>question1</th>\n",
       "      <th>question2</th>\n",
       "      <th>is_duplicate</th>\n",
       "    </tr>\n",
       "  </thead>\n",
       "  <tbody>\n",
       "    <tr>\n",
       "      <th>0</th>\n",
       "      <td>0</td>\n",
       "      <td>702876</td>\n",
       "      <td>702977</td>\n",
       "      <td>Amrozi accused his brother , whom he called \" ...</td>\n",
       "      <td>Referring to him as only \" the witness \" , Amr...</td>\n",
       "      <td>1</td>\n",
       "    </tr>\n",
       "    <tr>\n",
       "      <th>1</th>\n",
       "      <td>1</td>\n",
       "      <td>2108705</td>\n",
       "      <td>2108831</td>\n",
       "      <td>Yucaipa owned Dominick 's before selling the c...</td>\n",
       "      <td>Yucaipa bought Dominick 's in 1995 for $ 693 m...</td>\n",
       "      <td>0</td>\n",
       "    </tr>\n",
       "    <tr>\n",
       "      <th>2</th>\n",
       "      <td>2</td>\n",
       "      <td>1330381</td>\n",
       "      <td>1330521</td>\n",
       "      <td>They had published an advertisement on the Int...</td>\n",
       "      <td>On June 10 , the ship 's owners had published ...</td>\n",
       "      <td>1</td>\n",
       "    </tr>\n",
       "    <tr>\n",
       "      <th>3</th>\n",
       "      <td>3</td>\n",
       "      <td>3344667</td>\n",
       "      <td>3344648</td>\n",
       "      <td>Around 0335 GMT , Tab shares were up 19 cents ...</td>\n",
       "      <td>Tab shares jumped 20 cents , or 4.6 % , to set...</td>\n",
       "      <td>0</td>\n",
       "    </tr>\n",
       "    <tr>\n",
       "      <th>4</th>\n",
       "      <td>4</td>\n",
       "      <td>1236820</td>\n",
       "      <td>1236712</td>\n",
       "      <td>The stock rose $ 2.11 , or about 11 percent , ...</td>\n",
       "      <td>PG &amp; E Corp. shares jumped $ 1.63 or 8 percent...</td>\n",
       "      <td>1</td>\n",
       "    </tr>\n",
       "    <tr>\n",
       "      <th>...</th>\n",
       "      <td>...</td>\n",
       "      <td>...</td>\n",
       "      <td>...</td>\n",
       "      <td>...</td>\n",
       "      <td>...</td>\n",
       "      <td>...</td>\n",
       "    </tr>\n",
       "    <tr>\n",
       "      <th>5796</th>\n",
       "      <td>5796</td>\n",
       "      <td>2685984</td>\n",
       "      <td>2686122</td>\n",
       "      <td>After Hughes refused to rehire Hernandez , he ...</td>\n",
       "      <td>Hernandez filed an Equal Employment Opportunit...</td>\n",
       "      <td>0</td>\n",
       "    </tr>\n",
       "    <tr>\n",
       "      <th>5797</th>\n",
       "      <td>5797</td>\n",
       "      <td>339215</td>\n",
       "      <td>339172</td>\n",
       "      <td>There are 103 Democrats in the Assembly and 47...</td>\n",
       "      <td>Democrats dominate the Assembly while Republic...</td>\n",
       "      <td>0</td>\n",
       "    </tr>\n",
       "    <tr>\n",
       "      <th>5798</th>\n",
       "      <td>5798</td>\n",
       "      <td>2996850</td>\n",
       "      <td>2996734</td>\n",
       "      <td>Bethany Hamilton remained in stable condition ...</td>\n",
       "      <td>Bethany , who remained in stable condition aft...</td>\n",
       "      <td>0</td>\n",
       "    </tr>\n",
       "    <tr>\n",
       "      <th>5799</th>\n",
       "      <td>5799</td>\n",
       "      <td>2095781</td>\n",
       "      <td>2095812</td>\n",
       "      <td>Last week the power station ’ s US owners , AE...</td>\n",
       "      <td>The news comes after Drax 's American owner , ...</td>\n",
       "      <td>1</td>\n",
       "    </tr>\n",
       "    <tr>\n",
       "      <th>5800</th>\n",
       "      <td>5800</td>\n",
       "      <td>2136244</td>\n",
       "      <td>2136052</td>\n",
       "      <td>Sobig.F spreads when unsuspecting computer use...</td>\n",
       "      <td>The virus spreads when unsuspecting computer u...</td>\n",
       "      <td>1</td>\n",
       "    </tr>\n",
       "  </tbody>\n",
       "</table>\n",
       "<p>5801 rows × 6 columns</p>\n",
       "</div>"
      ],
      "text/plain": [
       "        id     qid1     qid2  \\\n",
       "0        0   702876   702977   \n",
       "1        1  2108705  2108831   \n",
       "2        2  1330381  1330521   \n",
       "3        3  3344667  3344648   \n",
       "4        4  1236820  1236712   \n",
       "...    ...      ...      ...   \n",
       "5796  5796  2685984  2686122   \n",
       "5797  5797   339215   339172   \n",
       "5798  5798  2996850  2996734   \n",
       "5799  5799  2095781  2095812   \n",
       "5800  5800  2136244  2136052   \n",
       "\n",
       "                                              question1  \\\n",
       "0     Amrozi accused his brother , whom he called \" ...   \n",
       "1     Yucaipa owned Dominick 's before selling the c...   \n",
       "2     They had published an advertisement on the Int...   \n",
       "3     Around 0335 GMT , Tab shares were up 19 cents ...   \n",
       "4     The stock rose $ 2.11 , or about 11 percent , ...   \n",
       "...                                                 ...   \n",
       "5796  After Hughes refused to rehire Hernandez , he ...   \n",
       "5797  There are 103 Democrats in the Assembly and 47...   \n",
       "5798  Bethany Hamilton remained in stable condition ...   \n",
       "5799  Last week the power station ’ s US owners , AE...   \n",
       "5800  Sobig.F spreads when unsuspecting computer use...   \n",
       "\n",
       "                                              question2  is_duplicate  \n",
       "0     Referring to him as only \" the witness \" , Amr...             1  \n",
       "1     Yucaipa bought Dominick 's in 1995 for $ 693 m...             0  \n",
       "2     On June 10 , the ship 's owners had published ...             1  \n",
       "3     Tab shares jumped 20 cents , or 4.6 % , to set...             0  \n",
       "4     PG & E Corp. shares jumped $ 1.63 or 8 percent...             1  \n",
       "...                                                 ...           ...  \n",
       "5796  Hernandez filed an Equal Employment Opportunit...             0  \n",
       "5797  Democrats dominate the Assembly while Republic...             0  \n",
       "5798  Bethany , who remained in stable condition aft...             0  \n",
       "5799  The news comes after Drax 's American owner , ...             1  \n",
       "5800  The virus spreads when unsuspecting computer u...             1  \n",
       "\n",
       "[5801 rows x 6 columns]"
      ]
     },
     "execution_count": 5,
     "metadata": {},
     "output_type": "execute_result"
    }
   ],
   "source": [
    "df_msrp"
   ]
  },
  {
   "cell_type": "code",
   "execution_count": 6,
   "metadata": {},
   "outputs": [
    {
     "name": "stdout",
     "output_type": "stream",
     "text": [
      "Vocab size: 30522\n"
     ]
    }
   ],
   "source": [
    "folder_bert = '../bert_en_uncased_L-12_H-768_A-12_3'\n",
    "tokenizer = bert.tokenization.FullTokenizer(\n",
    "    vocab_file=os.path.join(folder_bert, \"assets/vocab.txt\"),\n",
    "     do_lower_case=True)\n",
    "\n",
    "print(\"Vocab size:\", len(tokenizer.vocab))"
   ]
  },
  {
   "cell_type": "code",
   "execution_count": 7,
   "metadata": {},
   "outputs": [
    {
     "name": "stdout",
     "output_type": "stream",
     "text": [
      "['hello', 'tensor', '##flow', '!']\n",
      "[7592, 23435, 12314, 999]\n"
     ]
    }
   ],
   "source": [
    "tokens = tokenizer.tokenize(\"Hello TensorFlow!\")\n",
    "print(tokens)\n",
    "ids = tokenizer.convert_tokens_to_ids(tokens)\n",
    "print(ids)"
   ]
  },
  {
   "cell_type": "code",
   "execution_count": 8,
   "metadata": {},
   "outputs": [
    {
     "data": {
      "text/plain": [
       "[101, 102]"
      ]
     },
     "execution_count": 8,
     "metadata": {},
     "output_type": "execute_result"
    }
   ],
   "source": [
    "tokenizer.convert_tokens_to_ids(['[CLS]', '[SEP]'])"
   ]
  },
  {
   "cell_type": "code",
   "execution_count": 9,
   "metadata": {},
   "outputs": [
    {
     "name": "stderr",
     "output_type": "stream",
     "text": [
      "/home/pranav/.local/lib/python3.8/site-packages/tqdm/std.py:668: FutureWarning: The Panel class is removed from pandas. Accessing it from the top-level namespace will also be removed in the next version\n",
      "  from pandas import Panel\n",
      "100%|██████████| 5801/5801 [00:01<00:00, 3233.13it/s]\n",
      "100%|██████████| 5801/5801 [00:01<00:00, 3712.99it/s]\n"
     ]
    }
   ],
   "source": [
    "def encode_sentence(s):\n",
    "    try:\n",
    "        tokens = list(tokenizer.tokenize(str(s)))\n",
    "        tokens.append('[SEP]')\n",
    "        return tokenizer.convert_tokens_to_ids(tokens)\n",
    "    except Exception as e:\n",
    "        print(s)\n",
    "\n",
    "tqdm.pandas()\n",
    "df_msrp['question1_tokenized'] = df_msrp['question1'].progress_apply(lambda x: encode_sentence(x))\n",
    "df_msrp['question2_tokenized'] = df_msrp['question2'].progress_apply(lambda x: encode_sentence(x))\n",
    "\n",
    "df_msrp['len_q1'] = df_msrp['question1_tokenized'].map(lambda x: len(x))\n",
    "df_msrp['len_q2'] = df_msrp['question2_tokenized'].map(lambda x: len(x))"
   ]
  },
  {
   "cell_type": "code",
   "execution_count": 11,
   "metadata": {},
   "outputs": [
    {
     "data": {
      "text/html": [
       "<div>\n",
       "<style scoped>\n",
       "    .dataframe tbody tr th:only-of-type {\n",
       "        vertical-align: middle;\n",
       "    }\n",
       "\n",
       "    .dataframe tbody tr th {\n",
       "        vertical-align: top;\n",
       "    }\n",
       "\n",
       "    .dataframe thead th {\n",
       "        text-align: right;\n",
       "    }\n",
       "</style>\n",
       "<table border=\"1\" class=\"dataframe\">\n",
       "  <thead>\n",
       "    <tr style=\"text-align: right;\">\n",
       "      <th></th>\n",
       "      <th>id</th>\n",
       "      <th>qid1</th>\n",
       "      <th>qid2</th>\n",
       "      <th>is_duplicate</th>\n",
       "      <th>len_q1</th>\n",
       "      <th>len_q2</th>\n",
       "    </tr>\n",
       "  </thead>\n",
       "  <tbody>\n",
       "    <tr>\n",
       "      <th>count</th>\n",
       "      <td>5801.000000</td>\n",
       "      <td>5.801000e+03</td>\n",
       "      <td>5.801000e+03</td>\n",
       "      <td>5801.000000</td>\n",
       "      <td>5801.000000</td>\n",
       "      <td>5801.000000</td>\n",
       "    </tr>\n",
       "    <tr>\n",
       "      <th>mean</th>\n",
       "      <td>2900.000000</td>\n",
       "      <td>1.684367e+06</td>\n",
       "      <td>1.684367e+06</td>\n",
       "      <td>0.672298</td>\n",
       "      <td>26.099638</td>\n",
       "      <td>26.064644</td>\n",
       "    </tr>\n",
       "    <tr>\n",
       "      <th>std</th>\n",
       "      <td>1674.748787</td>\n",
       "      <td>9.916988e+05</td>\n",
       "      <td>9.917017e+05</td>\n",
       "      <td>0.469416</td>\n",
       "      <td>7.025059</td>\n",
       "      <td>7.019784</td>\n",
       "    </tr>\n",
       "    <tr>\n",
       "      <th>min</th>\n",
       "      <td>0.000000</td>\n",
       "      <td>2.670000e+02</td>\n",
       "      <td>1.400000e+02</td>\n",
       "      <td>0.000000</td>\n",
       "      <td>8.000000</td>\n",
       "      <td>9.000000</td>\n",
       "    </tr>\n",
       "    <tr>\n",
       "      <th>25%</th>\n",
       "      <td>1450.000000</td>\n",
       "      <td>8.068650e+05</td>\n",
       "      <td>8.068650e+05</td>\n",
       "      <td>0.000000</td>\n",
       "      <td>21.000000</td>\n",
       "      <td>21.000000</td>\n",
       "    </tr>\n",
       "    <tr>\n",
       "      <th>50%</th>\n",
       "      <td>2900.000000</td>\n",
       "      <td>1.691429e+06</td>\n",
       "      <td>1.691465e+06</td>\n",
       "      <td>1.000000</td>\n",
       "      <td>26.000000</td>\n",
       "      <td>26.000000</td>\n",
       "    </tr>\n",
       "    <tr>\n",
       "      <th>75%</th>\n",
       "      <td>4350.000000</td>\n",
       "      <td>2.537987e+06</td>\n",
       "      <td>2.538021e+06</td>\n",
       "      <td>1.000000</td>\n",
       "      <td>31.000000</td>\n",
       "      <td>31.000000</td>\n",
       "    </tr>\n",
       "    <tr>\n",
       "      <th>max</th>\n",
       "      <td>5800.000000</td>\n",
       "      <td>3.464314e+06</td>\n",
       "      <td>3.464302e+06</td>\n",
       "      <td>1.000000</td>\n",
       "      <td>51.000000</td>\n",
       "      <td>53.000000</td>\n",
       "    </tr>\n",
       "  </tbody>\n",
       "</table>\n",
       "</div>"
      ],
      "text/plain": [
       "                id          qid1          qid2  is_duplicate       len_q1  \\\n",
       "count  5801.000000  5.801000e+03  5.801000e+03   5801.000000  5801.000000   \n",
       "mean   2900.000000  1.684367e+06  1.684367e+06      0.672298    26.099638   \n",
       "std    1674.748787  9.916988e+05  9.917017e+05      0.469416     7.025059   \n",
       "min       0.000000  2.670000e+02  1.400000e+02      0.000000     8.000000   \n",
       "25%    1450.000000  8.068650e+05  8.068650e+05      0.000000    21.000000   \n",
       "50%    2900.000000  1.691429e+06  1.691465e+06      1.000000    26.000000   \n",
       "75%    4350.000000  2.537987e+06  2.538021e+06      1.000000    31.000000   \n",
       "max    5800.000000  3.464314e+06  3.464302e+06      1.000000    51.000000   \n",
       "\n",
       "            len_q2  \n",
       "count  5801.000000  \n",
       "mean     26.064644  \n",
       "std       7.019784  \n",
       "min       9.000000  \n",
       "25%      21.000000  \n",
       "50%      26.000000  \n",
       "75%      31.000000  \n",
       "max      53.000000  "
      ]
     },
     "execution_count": 11,
     "metadata": {},
     "output_type": "execute_result"
    }
   ],
   "source": [
    "df_msrp.describe()"
   ]
  },
  {
   "cell_type": "code",
   "execution_count": 13,
   "metadata": {},
   "outputs": [
    {
     "data": {
      "text/html": [
       "<div>\n",
       "<style scoped>\n",
       "    .dataframe tbody tr th:only-of-type {\n",
       "        vertical-align: middle;\n",
       "    }\n",
       "\n",
       "    .dataframe tbody tr th {\n",
       "        vertical-align: top;\n",
       "    }\n",
       "\n",
       "    .dataframe thead th {\n",
       "        text-align: right;\n",
       "    }\n",
       "</style>\n",
       "<table border=\"1\" class=\"dataframe\">\n",
       "  <thead>\n",
       "    <tr style=\"text-align: right;\">\n",
       "      <th></th>\n",
       "      <th>id</th>\n",
       "      <th>qid1</th>\n",
       "      <th>qid2</th>\n",
       "      <th>question1</th>\n",
       "      <th>question2</th>\n",
       "      <th>is_duplicate</th>\n",
       "      <th>question1_tokenized</th>\n",
       "      <th>question2_tokenized</th>\n",
       "      <th>len_q1</th>\n",
       "      <th>len_q2</th>\n",
       "    </tr>\n",
       "  </thead>\n",
       "  <tbody>\n",
       "    <tr>\n",
       "      <th>0</th>\n",
       "      <td>0</td>\n",
       "      <td>702876</td>\n",
       "      <td>702977</td>\n",
       "      <td>Amrozi accused his brother , whom he called \" ...</td>\n",
       "      <td>Referring to him as only \" the witness \" , Amr...</td>\n",
       "      <td>1</td>\n",
       "      <td>[2572, 3217, 5831, 5496, 2010, 2567, 1010, 318...</td>\n",
       "      <td>[7727, 2000, 2032, 2004, 2069, 1000, 1996, 740...</td>\n",
       "      <td>24</td>\n",
       "      <td>25</td>\n",
       "    </tr>\n",
       "    <tr>\n",
       "      <th>1</th>\n",
       "      <td>1</td>\n",
       "      <td>2108705</td>\n",
       "      <td>2108831</td>\n",
       "      <td>Yucaipa owned Dominick 's before selling the c...</td>\n",
       "      <td>Yucaipa bought Dominick 's in 1995 for $ 693 m...</td>\n",
       "      <td>0</td>\n",
       "      <td>[9805, 3540, 11514, 2050, 3079, 11282, 2243, 1...</td>\n",
       "      <td>[9805, 3540, 11514, 2050, 4149, 11282, 2243, 1...</td>\n",
       "      <td>26</td>\n",
       "      <td>32</td>\n",
       "    </tr>\n",
       "    <tr>\n",
       "      <th>2</th>\n",
       "      <td>2</td>\n",
       "      <td>1330381</td>\n",
       "      <td>1330521</td>\n",
       "      <td>They had published an advertisement on the Int...</td>\n",
       "      <td>On June 10 , the ship 's owners had published ...</td>\n",
       "      <td>1</td>\n",
       "      <td>[2027, 2018, 2405, 2019, 15147, 2006, 1996, 42...</td>\n",
       "      <td>[2006, 2238, 2184, 1010, 1996, 2911, 1005, 105...</td>\n",
       "      <td>22</td>\n",
       "      <td>24</td>\n",
       "    </tr>\n",
       "    <tr>\n",
       "      <th>3</th>\n",
       "      <td>3</td>\n",
       "      <td>3344667</td>\n",
       "      <td>3344648</td>\n",
       "      <td>Around 0335 GMT , Tab shares were up 19 cents ...</td>\n",
       "      <td>Tab shares jumped 20 cents , or 4.6 % , to set...</td>\n",
       "      <td>0</td>\n",
       "      <td>[2105, 6021, 19481, 13938, 2102, 1010, 21628, ...</td>\n",
       "      <td>[21628, 6661, 5598, 2322, 16653, 1010, 2030, 1...</td>\n",
       "      <td>40</td>\n",
       "      <td>26</td>\n",
       "    </tr>\n",
       "    <tr>\n",
       "      <th>4</th>\n",
       "      <td>4</td>\n",
       "      <td>1236820</td>\n",
       "      <td>1236712</td>\n",
       "      <td>The stock rose $ 2.11 , or about 11 percent , ...</td>\n",
       "      <td>PG &amp; E Corp. shares jumped $ 1.63 or 8 percent...</td>\n",
       "      <td>1</td>\n",
       "      <td>[1996, 4518, 3123, 1002, 1016, 1012, 2340, 101...</td>\n",
       "      <td>[18720, 1004, 1041, 13058, 1012, 6661, 5598, 1...</td>\n",
       "      <td>29</td>\n",
       "      <td>29</td>\n",
       "    </tr>\n",
       "  </tbody>\n",
       "</table>\n",
       "</div>"
      ],
      "text/plain": [
       "   id     qid1     qid2                                          question1  \\\n",
       "0   0   702876   702977  Amrozi accused his brother , whom he called \" ...   \n",
       "1   1  2108705  2108831  Yucaipa owned Dominick 's before selling the c...   \n",
       "2   2  1330381  1330521  They had published an advertisement on the Int...   \n",
       "3   3  3344667  3344648  Around 0335 GMT , Tab shares were up 19 cents ...   \n",
       "4   4  1236820  1236712  The stock rose $ 2.11 , or about 11 percent , ...   \n",
       "\n",
       "                                           question2  is_duplicate  \\\n",
       "0  Referring to him as only \" the witness \" , Amr...             1   \n",
       "1  Yucaipa bought Dominick 's in 1995 for $ 693 m...             0   \n",
       "2  On June 10 , the ship 's owners had published ...             1   \n",
       "3  Tab shares jumped 20 cents , or 4.6 % , to set...             0   \n",
       "4  PG & E Corp. shares jumped $ 1.63 or 8 percent...             1   \n",
       "\n",
       "                                 question1_tokenized  \\\n",
       "0  [2572, 3217, 5831, 5496, 2010, 2567, 1010, 318...   \n",
       "1  [9805, 3540, 11514, 2050, 3079, 11282, 2243, 1...   \n",
       "2  [2027, 2018, 2405, 2019, 15147, 2006, 1996, 42...   \n",
       "3  [2105, 6021, 19481, 13938, 2102, 1010, 21628, ...   \n",
       "4  [1996, 4518, 3123, 1002, 1016, 1012, 2340, 101...   \n",
       "\n",
       "                                 question2_tokenized  len_q1  len_q2  \n",
       "0  [7727, 2000, 2032, 2004, 2069, 1000, 1996, 740...      24      25  \n",
       "1  [9805, 3540, 11514, 2050, 4149, 11282, 2243, 1...      26      32  \n",
       "2  [2006, 2238, 2184, 1010, 1996, 2911, 1005, 105...      22      24  \n",
       "3  [21628, 6661, 5598, 2322, 16653, 1010, 2030, 1...      40      26  \n",
       "4  [18720, 1004, 1041, 13058, 1012, 6661, 5598, 1...      29      29  "
      ]
     },
     "execution_count": 13,
     "metadata": {},
     "output_type": "execute_result"
    }
   ],
   "source": [
    "df_msrp.head()"
   ]
  },
  {
   "cell_type": "code",
   "execution_count": 15,
   "metadata": {},
   "outputs": [],
   "source": [
    "df_msrp.to_pickle(\"./msrp_tokenized.pkl\")"
   ]
  },
  {
   "cell_type": "markdown",
   "metadata": {},
   "source": [
    "## Building Data"
   ]
  },
  {
   "cell_type": "code",
   "execution_count": 4,
   "metadata": {},
   "outputs": [],
   "source": [
    "df_msrp = pd.read_pickle(\"./msrp_tokenized.pkl\")"
   ]
  },
  {
   "cell_type": "code",
   "execution_count": 5,
   "metadata": {},
   "outputs": [],
   "source": [
    "sentence_len = 50\n",
    "df_msrp = df_msrp[(df_msrp['len_q1']<sentence_len) & (df_msrp['len_q2']<sentence_len)]"
   ]
  },
  {
   "cell_type": "code",
   "execution_count": 6,
   "metadata": {},
   "outputs": [
    {
     "data": {
      "text/html": [
       "<div>\n",
       "<style scoped>\n",
       "    .dataframe tbody tr th:only-of-type {\n",
       "        vertical-align: middle;\n",
       "    }\n",
       "\n",
       "    .dataframe tbody tr th {\n",
       "        vertical-align: top;\n",
       "    }\n",
       "\n",
       "    .dataframe thead th {\n",
       "        text-align: right;\n",
       "    }\n",
       "</style>\n",
       "<table border=\"1\" class=\"dataframe\">\n",
       "  <thead>\n",
       "    <tr style=\"text-align: right;\">\n",
       "      <th></th>\n",
       "      <th>id</th>\n",
       "      <th>qid1</th>\n",
       "      <th>qid2</th>\n",
       "      <th>question1</th>\n",
       "      <th>question2</th>\n",
       "      <th>is_duplicate</th>\n",
       "      <th>question1_tokenized</th>\n",
       "      <th>question2_tokenized</th>\n",
       "      <th>len_q1</th>\n",
       "      <th>len_q2</th>\n",
       "    </tr>\n",
       "  </thead>\n",
       "  <tbody>\n",
       "    <tr>\n",
       "      <th>0</th>\n",
       "      <td>0</td>\n",
       "      <td>702876</td>\n",
       "      <td>702977</td>\n",
       "      <td>Amrozi accused his brother , whom he called \" ...</td>\n",
       "      <td>Referring to him as only \" the witness \" , Amr...</td>\n",
       "      <td>1</td>\n",
       "      <td>[2572, 3217, 5831, 5496, 2010, 2567, 1010, 318...</td>\n",
       "      <td>[7727, 2000, 2032, 2004, 2069, 1000, 1996, 740...</td>\n",
       "      <td>24</td>\n",
       "      <td>25</td>\n",
       "    </tr>\n",
       "    <tr>\n",
       "      <th>1</th>\n",
       "      <td>1</td>\n",
       "      <td>2108705</td>\n",
       "      <td>2108831</td>\n",
       "      <td>Yucaipa owned Dominick 's before selling the c...</td>\n",
       "      <td>Yucaipa bought Dominick 's in 1995 for $ 693 m...</td>\n",
       "      <td>0</td>\n",
       "      <td>[9805, 3540, 11514, 2050, 3079, 11282, 2243, 1...</td>\n",
       "      <td>[9805, 3540, 11514, 2050, 4149, 11282, 2243, 1...</td>\n",
       "      <td>26</td>\n",
       "      <td>32</td>\n",
       "    </tr>\n",
       "    <tr>\n",
       "      <th>2</th>\n",
       "      <td>2</td>\n",
       "      <td>1330381</td>\n",
       "      <td>1330521</td>\n",
       "      <td>They had published an advertisement on the Int...</td>\n",
       "      <td>On June 10 , the ship 's owners had published ...</td>\n",
       "      <td>1</td>\n",
       "      <td>[2027, 2018, 2405, 2019, 15147, 2006, 1996, 42...</td>\n",
       "      <td>[2006, 2238, 2184, 1010, 1996, 2911, 1005, 105...</td>\n",
       "      <td>22</td>\n",
       "      <td>24</td>\n",
       "    </tr>\n",
       "    <tr>\n",
       "      <th>3</th>\n",
       "      <td>3</td>\n",
       "      <td>3344667</td>\n",
       "      <td>3344648</td>\n",
       "      <td>Around 0335 GMT , Tab shares were up 19 cents ...</td>\n",
       "      <td>Tab shares jumped 20 cents , or 4.6 % , to set...</td>\n",
       "      <td>0</td>\n",
       "      <td>[2105, 6021, 19481, 13938, 2102, 1010, 21628, ...</td>\n",
       "      <td>[21628, 6661, 5598, 2322, 16653, 1010, 2030, 1...</td>\n",
       "      <td>40</td>\n",
       "      <td>26</td>\n",
       "    </tr>\n",
       "    <tr>\n",
       "      <th>4</th>\n",
       "      <td>4</td>\n",
       "      <td>1236820</td>\n",
       "      <td>1236712</td>\n",
       "      <td>The stock rose $ 2.11 , or about 11 percent , ...</td>\n",
       "      <td>PG &amp; E Corp. shares jumped $ 1.63 or 8 percent...</td>\n",
       "      <td>1</td>\n",
       "      <td>[1996, 4518, 3123, 1002, 1016, 1012, 2340, 101...</td>\n",
       "      <td>[18720, 1004, 1041, 13058, 1012, 6661, 5598, 1...</td>\n",
       "      <td>29</td>\n",
       "      <td>29</td>\n",
       "    </tr>\n",
       "    <tr>\n",
       "      <th>...</th>\n",
       "      <td>...</td>\n",
       "      <td>...</td>\n",
       "      <td>...</td>\n",
       "      <td>...</td>\n",
       "      <td>...</td>\n",
       "      <td>...</td>\n",
       "      <td>...</td>\n",
       "      <td>...</td>\n",
       "      <td>...</td>\n",
       "      <td>...</td>\n",
       "    </tr>\n",
       "    <tr>\n",
       "      <th>5796</th>\n",
       "      <td>5796</td>\n",
       "      <td>2685984</td>\n",
       "      <td>2686122</td>\n",
       "      <td>After Hughes refused to rehire Hernandez , he ...</td>\n",
       "      <td>Hernandez filed an Equal Employment Opportunit...</td>\n",
       "      <td>0</td>\n",
       "      <td>[2044, 8099, 4188, 2000, 2128, 20908, 13688, 1...</td>\n",
       "      <td>[13688, 6406, 2019, 5020, 6107, 4495, 3222, 12...</td>\n",
       "      <td>18</td>\n",
       "      <td>12</td>\n",
       "    </tr>\n",
       "    <tr>\n",
       "      <th>5797</th>\n",
       "      <td>5797</td>\n",
       "      <td>339215</td>\n",
       "      <td>339172</td>\n",
       "      <td>There are 103 Democrats in the Assembly and 47...</td>\n",
       "      <td>Democrats dominate the Assembly while Republic...</td>\n",
       "      <td>0</td>\n",
       "      <td>[2045, 2024, 9800, 8037, 1999, 1996, 3320, 199...</td>\n",
       "      <td>[8037, 16083, 1996, 3320, 2096, 10643, 2491, 1...</td>\n",
       "      <td>12</td>\n",
       "      <td>11</td>\n",
       "    </tr>\n",
       "    <tr>\n",
       "      <th>5798</th>\n",
       "      <td>5798</td>\n",
       "      <td>2996850</td>\n",
       "      <td>2996734</td>\n",
       "      <td>Bethany Hamilton remained in stable condition ...</td>\n",
       "      <td>Bethany , who remained in stable condition aft...</td>\n",
       "      <td>0</td>\n",
       "      <td>[16559, 5226, 2815, 1999, 6540, 4650, 5095, 20...</td>\n",
       "      <td>[16559, 1010, 2040, 2815, 1999, 6540, 4650, 20...</td>\n",
       "      <td>14</td>\n",
       "      <td>20</td>\n",
       "    </tr>\n",
       "    <tr>\n",
       "      <th>5799</th>\n",
       "      <td>5799</td>\n",
       "      <td>2095781</td>\n",
       "      <td>2095812</td>\n",
       "      <td>Last week the power station ’ s US owners , AE...</td>\n",
       "      <td>The news comes after Drax 's American owner , ...</td>\n",
       "      <td>1</td>\n",
       "      <td>[2197, 2733, 1996, 2373, 2276, 1521, 1055, 214...</td>\n",
       "      <td>[1996, 2739, 3310, 2044, 2852, 8528, 1005, 105...</td>\n",
       "      <td>33</td>\n",
       "      <td>40</td>\n",
       "    </tr>\n",
       "    <tr>\n",
       "      <th>5800</th>\n",
       "      <td>5800</td>\n",
       "      <td>2136244</td>\n",
       "      <td>2136052</td>\n",
       "      <td>Sobig.F spreads when unsuspecting computer use...</td>\n",
       "      <td>The virus spreads when unsuspecting computer u...</td>\n",
       "      <td>1</td>\n",
       "      <td>[17540, 8004, 1012, 1042, 20861, 2043, 4895, 1...</td>\n",
       "      <td>[1996, 7865, 20861, 2043, 4895, 13203, 5051, 1...</td>\n",
       "      <td>45</td>\n",
       "      <td>35</td>\n",
       "    </tr>\n",
       "  </tbody>\n",
       "</table>\n",
       "<p>5793 rows × 10 columns</p>\n",
       "</div>"
      ],
      "text/plain": [
       "        id     qid1     qid2  \\\n",
       "0        0   702876   702977   \n",
       "1        1  2108705  2108831   \n",
       "2        2  1330381  1330521   \n",
       "3        3  3344667  3344648   \n",
       "4        4  1236820  1236712   \n",
       "...    ...      ...      ...   \n",
       "5796  5796  2685984  2686122   \n",
       "5797  5797   339215   339172   \n",
       "5798  5798  2996850  2996734   \n",
       "5799  5799  2095781  2095812   \n",
       "5800  5800  2136244  2136052   \n",
       "\n",
       "                                              question1  \\\n",
       "0     Amrozi accused his brother , whom he called \" ...   \n",
       "1     Yucaipa owned Dominick 's before selling the c...   \n",
       "2     They had published an advertisement on the Int...   \n",
       "3     Around 0335 GMT , Tab shares were up 19 cents ...   \n",
       "4     The stock rose $ 2.11 , or about 11 percent , ...   \n",
       "...                                                 ...   \n",
       "5796  After Hughes refused to rehire Hernandez , he ...   \n",
       "5797  There are 103 Democrats in the Assembly and 47...   \n",
       "5798  Bethany Hamilton remained in stable condition ...   \n",
       "5799  Last week the power station ’ s US owners , AE...   \n",
       "5800  Sobig.F spreads when unsuspecting computer use...   \n",
       "\n",
       "                                              question2  is_duplicate  \\\n",
       "0     Referring to him as only \" the witness \" , Amr...             1   \n",
       "1     Yucaipa bought Dominick 's in 1995 for $ 693 m...             0   \n",
       "2     On June 10 , the ship 's owners had published ...             1   \n",
       "3     Tab shares jumped 20 cents , or 4.6 % , to set...             0   \n",
       "4     PG & E Corp. shares jumped $ 1.63 or 8 percent...             1   \n",
       "...                                                 ...           ...   \n",
       "5796  Hernandez filed an Equal Employment Opportunit...             0   \n",
       "5797  Democrats dominate the Assembly while Republic...             0   \n",
       "5798  Bethany , who remained in stable condition aft...             0   \n",
       "5799  The news comes after Drax 's American owner , ...             1   \n",
       "5800  The virus spreads when unsuspecting computer u...             1   \n",
       "\n",
       "                                    question1_tokenized  \\\n",
       "0     [2572, 3217, 5831, 5496, 2010, 2567, 1010, 318...   \n",
       "1     [9805, 3540, 11514, 2050, 3079, 11282, 2243, 1...   \n",
       "2     [2027, 2018, 2405, 2019, 15147, 2006, 1996, 42...   \n",
       "3     [2105, 6021, 19481, 13938, 2102, 1010, 21628, ...   \n",
       "4     [1996, 4518, 3123, 1002, 1016, 1012, 2340, 101...   \n",
       "...                                                 ...   \n",
       "5796  [2044, 8099, 4188, 2000, 2128, 20908, 13688, 1...   \n",
       "5797  [2045, 2024, 9800, 8037, 1999, 1996, 3320, 199...   \n",
       "5798  [16559, 5226, 2815, 1999, 6540, 4650, 5095, 20...   \n",
       "5799  [2197, 2733, 1996, 2373, 2276, 1521, 1055, 214...   \n",
       "5800  [17540, 8004, 1012, 1042, 20861, 2043, 4895, 1...   \n",
       "\n",
       "                                    question2_tokenized  len_q1  len_q2  \n",
       "0     [7727, 2000, 2032, 2004, 2069, 1000, 1996, 740...      24      25  \n",
       "1     [9805, 3540, 11514, 2050, 4149, 11282, 2243, 1...      26      32  \n",
       "2     [2006, 2238, 2184, 1010, 1996, 2911, 1005, 105...      22      24  \n",
       "3     [21628, 6661, 5598, 2322, 16653, 1010, 2030, 1...      40      26  \n",
       "4     [18720, 1004, 1041, 13058, 1012, 6661, 5598, 1...      29      29  \n",
       "...                                                 ...     ...     ...  \n",
       "5796  [13688, 6406, 2019, 5020, 6107, 4495, 3222, 12...      18      12  \n",
       "5797  [8037, 16083, 1996, 3320, 2096, 10643, 2491, 1...      12      11  \n",
       "5798  [16559, 1010, 2040, 2815, 1999, 6540, 4650, 20...      14      20  \n",
       "5799  [1996, 2739, 3310, 2044, 2852, 8528, 1005, 105...      33      40  \n",
       "5800  [1996, 7865, 20861, 2043, 4895, 13203, 5051, 1...      45      35  \n",
       "\n",
       "[5793 rows x 10 columns]"
      ]
     },
     "execution_count": 6,
     "metadata": {},
     "output_type": "execute_result"
    }
   ],
   "source": [
    "df_msrp"
   ]
  },
  {
   "cell_type": "code",
   "execution_count": 7,
   "metadata": {},
   "outputs": [],
   "source": [
    "def bert_encode(data):\n",
    "    sentence1 = tf.ragged.constant(data['question1_tokenized'])\n",
    "    sentence2 = tf.ragged.constant(data['question2_tokenized'])\n",
    "    \n",
    "    cls = [tokenizer.convert_tokens_to_ids(['[CLS]'])]*sentence1.shape[0]\n",
    "    input_word_ids = tf.concat([cls, sentence1, sentence2], axis=-1)\n",
    "\n",
    "    input_mask = tf.ones_like(input_word_ids).to_tensor()\n",
    "\n",
    "    type_cls = tf.zeros_like(cls)\n",
    "    type_s1 = tf.zeros_like(sentence1)\n",
    "    type_s2 = tf.ones_like(sentence2)\n",
    "    input_type_ids = tf.concat([type_cls, type_s1, type_s2], axis=-1).to_tensor()\n",
    "    inputs = {\n",
    "      'input_word_ids': input_word_ids.to_tensor(),\n",
    "      'input_mask': input_mask,\n",
    "      'input_type_ids': input_type_ids}\n",
    "    return inputs"
   ]
  },
  {
   "cell_type": "code",
   "execution_count": 8,
   "metadata": {},
   "outputs": [],
   "source": [
    "train_msrp, test_msrp = train_test_split(df_msrp, test_size=0.2)"
   ]
  },
  {
   "cell_type": "code",
   "execution_count": 9,
   "metadata": {},
   "outputs": [
    {
     "name": "stdout",
     "output_type": "stream",
     "text": [
      "Vocab size: 30522\n"
     ]
    }
   ],
   "source": [
    "folder_bert = '../bert_en_uncased_L-12_H-768_A-12_3'\n",
    "tokenizer = bert.tokenization.FullTokenizer(\n",
    "    vocab_file=os.path.join(folder_bert, \"assets/vocab.txt\"),\n",
    "     do_lower_case=True)\n",
    "\n",
    "print(\"Vocab size:\", len(tokenizer.vocab))"
   ]
  },
  {
   "cell_type": "code",
   "execution_count": 10,
   "metadata": {},
   "outputs": [],
   "source": [
    "msrp_train = bert_encode(train_msrp)\n",
    "msrp_train_labels = train_msrp['is_duplicate']\n",
    "\n",
    "msrp_test = bert_encode(test_msrp)\n",
    "msrp_test_labels = test_msrp['is_duplicate']"
   ]
  },
  {
   "cell_type": "code",
   "execution_count": 11,
   "metadata": {},
   "outputs": [
    {
     "name": "stdout",
     "output_type": "stream",
     "text": [
      "input_word_ids  shape: (4634, 98)\n",
      "input_mask      shape: (4634, 98)\n",
      "input_type_ids  shape: (4634, 98)\n",
      "Train_labels shape: (4634,)\n"
     ]
    }
   ],
   "source": [
    "for key, value in msrp_train.items():\n",
    "    print(f'{key:15s} shape: {value.shape}')\n",
    "\n",
    "print(f'Train_labels shape: {msrp_train_labels.shape}')"
   ]
  },
  {
   "cell_type": "markdown",
   "metadata": {},
   "source": [
    "## Build Model"
   ]
  },
  {
   "cell_type": "code",
   "execution_count": 12,
   "metadata": {},
   "outputs": [],
   "source": [
    "hub_encoder = hub.KerasLayer(folder_bert,trainable=True)"
   ]
  },
  {
   "cell_type": "code",
   "execution_count": 13,
   "metadata": {},
   "outputs": [
    {
     "name": "stdout",
     "output_type": "stream",
     "text": [
      "The Hub encoder has 199 trainable variables\n"
     ]
    }
   ],
   "source": [
    "print(f\"The Hub encoder has {len(hub_encoder.trainable_variables)} trainable variables\")"
   ]
  },
  {
   "cell_type": "code",
   "execution_count": 14,
   "metadata": {},
   "outputs": [],
   "source": [
    "result = hub_encoder(\n",
    "    inputs = dict(\n",
    "    input_word_ids=msrp_train['input_word_ids'][:10],\n",
    "    input_mask=msrp_train['input_mask'][:10],\n",
    "    input_type_ids=msrp_train['input_type_ids'][:10],),\n",
    "    training=False,\n",
    ")"
   ]
  },
  {
   "cell_type": "code",
   "execution_count": 15,
   "metadata": {},
   "outputs": [
    {
     "data": {
      "text/plain": [
       "dict_keys(['sequence_output', 'pooled_output', 'default', 'encoder_outputs'])"
      ]
     },
     "execution_count": 15,
     "metadata": {},
     "output_type": "execute_result"
    }
   ],
   "source": [
    "result.keys()"
   ]
  },
  {
   "cell_type": "code",
   "execution_count": 16,
   "metadata": {},
   "outputs": [
    {
     "data": {
      "text/plain": [
       "<tf.Tensor: shape=(10, 768), dtype=float32, numpy=\n",
       "array([[-0.98736864, -0.8870846 , -0.99976957, ..., -0.99475145,\n",
       "        -0.9383457 ,  0.9821567 ],\n",
       "       [-0.9968034 , -0.9467628 , -0.99998146, ..., -0.998937  ,\n",
       "        -0.9655365 ,  0.9889258 ],\n",
       "       [-0.9958344 , -0.94790304, -0.9999467 , ..., -0.9974515 ,\n",
       "        -0.9632373 ,  0.9928619 ],\n",
       "       ...,\n",
       "       [-0.99223065, -0.94487053, -0.9999586 , ..., -0.9992766 ,\n",
       "        -0.9674017 ,  0.9839096 ],\n",
       "       [-0.9916153 , -0.91362923, -0.9999602 , ..., -0.9990443 ,\n",
       "        -0.93803537,  0.9774511 ],\n",
       "       [-0.99401826, -0.93788624, -0.99995685, ..., -0.9990079 ,\n",
       "        -0.96140784,  0.9856024 ]], dtype=float32)>"
      ]
     },
     "execution_count": 16,
     "metadata": {},
     "output_type": "execute_result"
    }
   ],
   "source": [
    "result['pooled_output']"
   ]
  },
  {
   "cell_type": "code",
   "execution_count": 17,
   "metadata": {},
   "outputs": [],
   "source": [
    "bert_inputs = dict(\n",
    "    input_word_ids=tf.keras.layers.Input(shape=(None,), dtype=tf.int32),\n",
    "    input_mask=tf.keras.layers.Input(shape=(None,), dtype=tf.int32),\n",
    "    input_type_ids=tf.keras.layers.Input(shape=(None,), dtype=tf.int32),\n",
    ")"
   ]
  },
  {
   "cell_type": "code",
   "execution_count": 18,
   "metadata": {},
   "outputs": [],
   "source": [
    "bert_output = hub_encoder(bert_inputs)"
   ]
  },
  {
   "cell_type": "code",
   "execution_count": 19,
   "metadata": {},
   "outputs": [],
   "source": [
    "bert_classifier = layers.Dropout(.1)(bert_output['pooled_output'])\n",
    "bert_classifier = x = layers.Dense(2, kernel_initializer=tf.keras.initializers.TruncatedNormal(stddev=.02))(bert_classifier)"
   ]
  },
  {
   "cell_type": "code",
   "execution_count": 20,
   "metadata": {},
   "outputs": [
    {
     "name": "stdout",
     "output_type": "stream",
     "text": [
      "Model: \"Bert_model\"\n",
      "__________________________________________________________________________________________________\n",
      "Layer (type)                    Output Shape         Param #     Connected to                     \n",
      "==================================================================================================\n",
      "input_2 (InputLayer)            [(None, None)]       0                                            \n",
      "__________________________________________________________________________________________________\n",
      "input_3 (InputLayer)            [(None, None)]       0                                            \n",
      "__________________________________________________________________________________________________\n",
      "input_1 (InputLayer)            [(None, None)]       0                                            \n",
      "__________________________________________________________________________________________________\n",
      "keras_layer (KerasLayer)        {'default': (None, 7 109482241   input_2[0][0]                    \n",
      "                                                                 input_3[0][0]                    \n",
      "                                                                 input_1[0][0]                    \n",
      "__________________________________________________________________________________________________\n",
      "dropout (Dropout)               (None, 768)          0           keras_layer[0][13]               \n",
      "__________________________________________________________________________________________________\n",
      "dense (Dense)                   (None, 2)            1538        dropout[0][0]                    \n",
      "==================================================================================================\n",
      "Total params: 109,483,779\n",
      "Trainable params: 109,483,778\n",
      "Non-trainable params: 1\n",
      "__________________________________________________________________________________________________\n"
     ]
    }
   ],
   "source": [
    "model = keras.Model(inputs=bert_inputs, outputs=bert_classifier, name=\"Bert_model\")\n",
    "model.summary()"
   ]
  },
  {
   "cell_type": "code",
   "execution_count": 21,
   "metadata": {},
   "outputs": [
    {
     "data": {
      "image/png": "[encoded data removed]",
      "text/plain": [
       "<IPython.core.display.Image object>"
      ]
     },
     "execution_count": 21,
     "metadata": {},
     "output_type": "execute_result"
    }
   ],
   "source": [
    "keras.utils.plot_model(model, \"Bert_model.png\", show_shapes=True)"
   ]
  },
  {
   "cell_type": "code",
   "execution_count": 22,
   "metadata": {},
   "outputs": [],
   "source": [
    "# Set up epochs and steps\n",
    "epochs = 3\n",
    "batch_size = 8\n",
    "eval_batch_size = 8\n",
    "\n",
    "train_data_size = len(msrp_train_labels)\n",
    "steps_per_epoch = int(train_data_size / batch_size)\n",
    "num_train_steps = steps_per_epoch * epochs\n",
    "warmup_steps = int(epochs * train_data_size * 0.1 / batch_size)\n",
    "\n",
    "# creates an optimizer with learning rate schedule\n",
    "optimizer = nlp.optimization.create_optimizer(\n",
    "    2e-5, num_train_steps=num_train_steps, num_warmup_steps=warmup_steps)\n",
    "\n",
    "metrics = [tf.keras.metrics.SparseCategoricalAccuracy('accuracy', dtype=tf.float32)]\n",
    "loss = tf.keras.losses.SparseCategoricalCrossentropy(from_logits=True)\n",
    "\n",
    "model.compile(\n",
    "    optimizer=optimizer,\n",
    "    loss=loss,\n",
    "    metrics=metrics)\n",
    "\n",
    "# model.compile(loss='binary_crossentropy', optimizer='adam', metrics=['accuracy'])"
   ]
  },
  {
   "cell_type": "code",
   "execution_count": 23,
   "metadata": {
    "scrolled": false
   },
   "outputs": [
    {
     "name": "stdout",
     "output_type": "stream",
     "text": [
      "Epoch 1/3\n",
      "580/580 [==============================] - 197s 340ms/step - loss: 0.5574 - accuracy: 0.6994 - val_loss: 0.3975 - val_accuracy: 0.8240\n",
      "Epoch 2/3\n",
      "580/580 [==============================] - 197s 340ms/step - loss: 0.2941 - accuracy: 0.8807 - val_loss: 0.3804 - val_accuracy: 0.8369\n",
      "Epoch 3/3\n",
      "580/580 [==============================] - 198s 341ms/step - loss: 0.1243 - accuracy: 0.9599 - val_loss: 0.4698 - val_accuracy: 0.8412\n"
     ]
    }
   ],
   "source": [
    "hist = model.fit(\n",
    "      msrp_train, msrp_train_labels,\n",
    "      validation_data=(msrp_test, msrp_test_labels),\n",
    "      batch_size=8,\n",
    "      epochs=3)\n"
   ]
  },
  {
   "cell_type": "code",
   "execution_count": 24,
   "metadata": {},
   "outputs": [
    {
     "name": "stdout",
     "output_type": "stream",
     "text": [
      "{'loss': [0.5573986768722534, 0.2940622568130493, 0.12434660643339157], 'accuracy': [0.6993957757949829, 0.8806646466255188, 0.9598618745803833], 'val_loss': [0.39747413992881775, 0.38043299317359924, 0.4697630703449249], 'val_accuracy': [0.8239861726760864, 0.8369283676147461, 0.8412424325942993]}\n"
     ]
    },
    {
     "data": {
      "image/png": "[encoded data removed]",
      "text/plain": [
       "<Figure size 432x288 with 1 Axes>"
      ]
     },
     "metadata": {
      "needs_background": "light"
     },
     "output_type": "display_data"
    },
    {
     "data": {
      "image/png": "[encoded data removed]",
      "text/plain": [
       "<Figure size 432x288 with 1 Axes>"
      ]
     },
     "metadata": {
      "needs_background": "light"
     },
     "output_type": "display_data"
    }
   ],
   "source": [
    "# Plot accuracy\n",
    "print(hist.history)\n",
    "plt.plot(hist.history['accuracy'])\n",
    "plt.plot(hist.history['val_accuracy'])\n",
    "plt.title('Model Accuracy')\n",
    "plt.ylabel('Accuracy')\n",
    "plt.xlabel('Epoch')\n",
    "plt.legend(['Train', 'Validation'], loc='upper left')\n",
    "plt.show()\n",
    "\n",
    "# Plot loss\n",
    "plt.plot(hist.history['loss'])\n",
    "plt.plot(hist.history['val_loss'])\n",
    "plt.title('Model Loss')\n",
    "plt.ylabel('Loss')\n",
    "plt.xlabel('Epoch')\n",
    "plt.legend(['Train', 'Validation'], loc='upper right')\n",
    "plt.show()"
   ]
  },
  {
   "cell_type": "code",
   "execution_count": 25,
   "metadata": {},
   "outputs": [],
   "source": [
    "model.save_weights(\"results/bert_model_msrp\",save_format=\"h5\")"
   ]
  },
  {
   "cell_type": "code",
   "execution_count": 26,
   "metadata": {},
   "outputs": [],
   "source": [
    "with open('results/bert_model_msrp.json', 'w') as f:\n",
    "    json.dump(hist.history, f)"
   ]
  }
 ],
 "metadata": {
  "kernelspec": {
   "display_name": "Python 3.8.2 64-bit",
   "language": "python",
   "name": "python38264bitbb0da2287d7d4444947cbf6077af50b1"
  },
  "language_info": {
   "codemirror_mode": {
    "name": "ipython",
    "version": 3
   },
   "file_extension": ".py",
   "mimetype": "text/x-python",
   "name": "python",
   "nbconvert_exporter": "python",
   "pygments_lexer": "ipython3",
   "version": "3.8.5"
  }
 },
 "nbformat": 4,
 "nbformat_minor": 4
}
